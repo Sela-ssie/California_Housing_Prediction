{
 "cells": [
  {
   "cell_type": "markdown",
   "id": "4fb7986e",
   "metadata": {},
   "source": [
    "Importing GridSearch CV"
   ]
  },
  {
   "cell_type": "code",
   "execution_count": 24,
   "id": "b3cf305d",
   "metadata": {},
   "outputs": [],
   "source": [
    "from sklearn.model_selection import RandomizedSearchCV\n",
    "from xgboost import XGBRegressor\n",
    "import pandas as pd\n",
    "import joblib\n"
   ]
  },
  {
   "cell_type": "markdown",
   "id": "16025bca",
   "metadata": {},
   "source": [
    "Loading the training data"
   ]
  },
  {
   "cell_type": "code",
   "execution_count": 21,
   "id": "7c823ed5",
   "metadata": {},
   "outputs": [],
   "source": [
    "x_train = pd.read_csv('../data/processed/x_train.csv')\n",
    "y_log_train = pd.read_csv('../data/processed/y_log_train.csv').squeeze()"
   ]
  },
  {
   "cell_type": "markdown",
   "id": "32a88d5d",
   "metadata": {},
   "source": [
    "Defining the Parameters"
   ]
  },
  {
   "cell_type": "code",
   "execution_count": 22,
   "id": "dea06e8e",
   "metadata": {},
   "outputs": [],
   "source": [
    "param_grid = {\n",
    "    'max_depth': [3, 5, 6, 7],\n",
    "    'n_estimators': [100, 200, 300, 400, 500],\n",
    "    'learning_rate': [0.01, 0.05, 0.1],\n",
    "    'subsample': [0.7, 0.8, 0.9, 1],\n",
    "    'colsample_bytree': [0.7, 0.8, 0.9, 1],\n",
    "    'reg_alpha': [0, 0.1, 0.5, 1],\n",
    "    'reg_lambda': [0.1, 1, 5, 10]\n",
    "}"
   ]
  },
  {
   "cell_type": "markdown",
   "id": "cdb09754",
   "metadata": {},
   "source": [
    "Tuning the Parameters with RandomizedSearch CV"
   ]
  },
  {
   "cell_type": "code",
   "execution_count": 23,
   "id": "1a97f00a",
   "metadata": {},
   "outputs": [
    {
     "name": "stdout",
     "output_type": "stream",
     "text": [
      "{'subsample': 0.8, 'reg_lambda': 10, 'reg_alpha': 0, 'n_estimators': 500, 'max_depth': 6, 'learning_rate': 0.1, 'colsample_bytree': 1}\n",
      "44617.122265625\n"
     ]
    }
   ],
   "source": [
    "random_search = RandomizedSearchCV(XGBRegressor(), param_grid, cv=10, scoring = 'neg_root_mean_squared_error')\n",
    "random_search.fit(x_train, y_log_train)\n",
    "print(random_search.best_params_)\n",
    "print(-random_search.best_score_)"
   ]
  },
  {
   "cell_type": "markdown",
   "id": "0ce84617",
   "metadata": {},
   "source": [
    "Saving the best model"
   ]
  },
  {
   "cell_type": "code",
   "execution_count": 25,
   "id": "2a4750da",
   "metadata": {},
   "outputs": [
    {
     "data": {
      "text/plain": [
       "['../models/xgb_best_model.pkl']"
      ]
     },
     "execution_count": 25,
     "metadata": {},
     "output_type": "execute_result"
    }
   ],
   "source": [
    "joblib.dump(random_search.best_estimator_, '../models/xgb_best_model.pkl')"
   ]
  }
 ],
 "metadata": {
  "kernelspec": {
   "display_name": "venv",
   "language": "python",
   "name": "python3"
  },
  "language_info": {
   "codemirror_mode": {
    "name": "ipython",
    "version": 3
   },
   "file_extension": ".py",
   "mimetype": "text/x-python",
   "name": "python",
   "nbconvert_exporter": "python",
   "pygments_lexer": "ipython3",
   "version": "3.13.7"
  }
 },
 "nbformat": 4,
 "nbformat_minor": 5
}
